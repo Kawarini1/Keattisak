{
  "cells": [
    {
      "cell_type": "markdown",
      "metadata": {
        "id": "view-in-github",
        "colab_type": "text"
      },
      "source": [
        "<a href=\"https://colab.research.google.com/github/Kawarini1/Keattisak/blob/main/data_analyz.ipynb\" target=\"_parent\"><img src=\"https://colab.research.google.com/assets/colab-badge.svg\" alt=\"Open In Colab\"/></a>"
      ]
    },
    {
      "cell_type": "code",
      "execution_count": null,
      "metadata": {
        "id": "xzjihLUSzTQq"
      },
      "outputs": [],
      "source": [
        "!pip install pandas\n",
        "!pip install numpy\n",
        "!pip install scikit-learn\n",
        "!pip install matplotlib\n",
        "!pip install seaborn\n",
        "!pip install joblib"
      ]
    },
    {
      "cell_type": "code",
      "execution_count": null,
      "metadata": {
        "id": "WzQqTGiR980F"
      },
      "outputs": [],
      "source": [
        "from google.colab import drive\n",
        "drive.mount('/content/drive')"
      ]
    },
    {
      "cell_type": "code",
      "execution_count": null,
      "metadata": {
        "id": "FYhL5aKQyQSe"
      },
      "outputs": [],
      "source": [
        "import pandas as pd\n",
        "import numpy as np\n",
        "from sklearn.feature_selection import SelectKBest, f_classif\n",
        "from sklearn.ensemble import RandomForestClassifier, VotingClassifier, RandomForestRegressor\n",
        "from sklearn.model_selection import train_test_split, RandomizedSearchCV, StratifiedKFold ,cross_val_score\n",
        "from sklearn.metrics import accuracy_score\n",
        "from sklearn.preprocessing import LabelEncoder\n",
        "# อ่านข้อมูล\n",
        "data = pd.read_csv('/content/drive/MyDrive/Colab Notebooks/colab/train set.csv')"
      ]
    },
    {
      "cell_type": "code",
      "execution_count": null,
      "metadata": {
        "colab": {
          "base_uri": "https://localhost:8080/"
        },
        "id": "pcZeVwranomp",
        "outputId": "1001a6a1-b734-4c8a-ac4a-f839b193aac2"
      },
      "outputs": [
        {
          "output_type": "stream",
          "name": "stdout",
          "text": [
            "            PM10       PM2_5         NO2        SO2  Temperature   Humidity\n",
            "0     295.853039   13.038560    6.639263  66.161150     5.150335  84.424344\n",
            "1     246.254703    9.984497   16.318326  90.499523     1.543378  46.851415\n",
            "2      84.443191   23.111340   96.317811  17.875850     1.169483  17.806977\n",
            "3      21.020609   14.273403   81.234403  48.323616    21.925276  99.473373\n",
            "4      16.987667  152.111623  121.235461  90.866167     9.217517  24.906837\n",
            "...          ...         ...         ...        ...          ...        ...\n",
            "5806   11.246387  197.984629  158.643107  17.743678    37.359323  61.707640\n",
            "5807  275.340762   55.774170  132.336871  29.334724    34.532542  21.528555\n",
            "5808   41.892699  184.708551   82.105823  68.334578    22.975564  92.725625\n",
            "5809  165.533785  199.177255  100.796385  87.586488    36.090620  25.836286\n",
            "5810   82.216262  119.968244  193.440691  79.849177    18.239090  77.096194\n",
            "\n",
            "[5811 rows x 6 columns]\n",
            "PM10           float64\n",
            "PM2_5          float64\n",
            "NO2            float64\n",
            "SO2            float64\n",
            "Temperature    float64\n",
            "Humidity       float64\n",
            "AQI            float64\n",
            "dtype: object\n",
            "Columns in the DataFrame: Index(['PM10', 'PM2_5', 'NO2', 'SO2', 'Temperature', 'Humidity', 'AQI'], dtype='object')\n"
          ]
        }
      ],
      "source": [
        "\n",
        "# ข้อมูลที่ใช้สำหรับการ train\n",
        "X = data.drop(\"AQI\", axis = 1)\n",
        "y = data[\"AQI\"]\n",
        "print(X)\n",
        "\n",
        "# แสดงประเภทของข้อมูล\n",
        "print(data.dtypes)\n",
        "\n",
        "# แสดงคอลัมน์ทั้งหมดใน DataFrame\n",
        "print(\"Columns in the DataFrame:\", data.columns)\n",
        "\n",
        "# ตรวจสอบว่าคอลัมน์ 'AQI' มีอยู่จริงหรือไม่\n",
        "if 'AQI' not in data.columns:\n",
        "    raise ValueError(\"Column 'AQI ' not found in the DataFrame\")"
      ]
    },
    {
      "cell_type": "code",
      "execution_count": null,
      "metadata": {
        "colab": {
          "base_uri": "https://localhost:8080/"
        },
        "id": "tsuQBcszjI4e",
        "outputId": "e954daf0-2766-4092-a6d1-f2c52ec62450"
      },
      "outputs": [
        {
          "output_type": "stream",
          "name": "stderr",
          "text": [
            "/usr/local/lib/python3.11/dist-packages/sklearn/feature_selection/_univariate_selection.py:783: UserWarning: k=10 is greater than n_features=6. All the features will be returned.\n",
            "  warnings.warn(\n"
          ]
        },
        {
          "output_type": "stream",
          "name": "stdout",
          "text": [
            "[[295.8530392   13.03856044   6.63926301  66.16114965   5.15033504\n",
            "   84.42434365]\n",
            " [246.2547028    9.98449713  16.31832608  90.4995226    1.54337829\n",
            "   46.85141478]\n",
            " [ 84.44319074  23.11133977  96.31781102  17.87585035   1.16948342\n",
            "   17.80697722]\n",
            " ...\n",
            " [ 41.89269906 184.7085514   82.10582279  68.33457751  22.97556362\n",
            "   92.72562474]\n",
            " [165.5337851  199.1772552  100.7963851   87.58648826  36.09062031\n",
            "   25.83628643]\n",
            " [ 82.21626223 119.9682442  193.4406912   79.84917706  18.23908975\n",
            "   77.09619361]]\n"
          ]
        },
        {
          "output_type": "stream",
          "name": "stderr",
          "text": [
            "/usr/local/lib/python3.11/dist-packages/sklearn/feature_selection/_univariate_selection.py:108: RuntimeWarning: invalid value encountered in divide\n",
            "  msw = sswn / float(dfwn)\n"
          ]
        }
      ],
      "source": [
        "\n",
        "# เลือกฟีเจอร์ที่ดีที่สุด\n",
        "X_new = SelectKBest(score_func=f_classif, k=10).fit_transform(X, y)\n",
        "print(X_new)\n",
        "# แบ่งข้อมูลเป็นชุดฝึกและชุดทดสอบ\n",
        "X_train, X_test, y_train, y_test = train_test_split(X_new, y, test_size=0.2, random_state=42)\n",
        "\n",
        "# กำหนดพารามิเตอร์สำหรับ Random Search\n",
        "param_dist = {\n",
        "    'n_estimators': np.arange(50, 200, 10),\n",
        "    'max_depth': [None] + list(np.arange(5, 20, 2)),\n",
        "    'min_samples_split': np.arange(2, 10, 2),\n",
        "    'min_samples_leaf': np.arange(1, 5, 1)}"
      ]
    },
    {
      "cell_type": "code",
      "execution_count": null,
      "metadata": {
        "colab": {
          "base_uri": "https://localhost:8080/"
        },
        "id": "6dyreoiO9nK-",
        "outputId": "e428891e-154a-4a7d-8fc7-14bc90359366"
      },
      "outputs": [
        {
          "output_type": "stream",
          "name": "stdout",
          "text": [
            "StratifiedKFold(n_splits=5, random_state=None, shuffle=False)\n"
          ]
        }
      ],
      "source": [
        "# ตรวจสอบจำนวนสมาชิกในแต่ละคลาส\n",
        "unique, counts = np.unique(y, return_counts=True)\n",
        "class_counts = dict(zip(unique, counts))\n",
        "\n",
        "# ตรวจสอบให้แน่ใจว่า n_splits น้อยกว่าหรือเท่ากับจำนวนสมาชิกในคลาสที่มีจำนวนน้อยที่สุด\n",
        "min_class_count = min(class_counts.values())\n",
        "\n",
        "# กำหนดจำนวนการแบ่งข้อมูล\n",
        "n_splits = 5\n",
        "\n",
        "# ตรวจสอบให้แน่ใจว่า n_splits อย่างน้อย 2\n",
        "if n_splits < 2:\n",
        "    raise ValueError(f\"n_splits={n_splits} cannot be less than 2.\")\n",
        "\n",
        "# การใช้ stratified k-fold cross-validation\n",
        "skf = StratifiedKFold(n_splits=n_splits)\n",
        "print(skf)"
      ]
    },
    {
      "cell_type": "code",
      "execution_count": null,
      "metadata": {
        "colab": {
          "base_uri": "https://localhost:8080/"
        },
        "id": "nZSzpb7p6iLP",
        "outputId": "0ff72cb6-2734-45e5-e84c-2f46550814de"
      },
      "outputs": [
        {
          "metadata": {
            "tags": null
          },
          "name": "stdout",
          "output_type": "stream",
          "text": [
            "Fitting 5 folds for each of 100 candidates, totalling 500 fits\n"
          ]
        }
      ],
      "source": [
        "# สร้างโมเดล RandomForestClassifier\n",
        "clf = RandomForestRegressor(random_state=42)\n",
        "\n",
        "# สร้าง Random Search\n",
        "random_search = RandomizedSearchCV(estimator=clf, param_distributions=param_dist, n_iter=100, cv=5, n_jobs=-1, random_state=42, verbose=2)\n",
        "\n",
        "# ฝึกโมเดลด้วย Random Search\n",
        "random_search.fit(X_train, y_train)\n",
        "\n",
        "# แสดงพารามิเตอร์ที่ดีที่สุด\n",
        "print(\"Best parameters found: \", random_search.best_params_)\n",
        "\n",
        "# สร้างโมเดลที่ดีที่สุด\n",
        "best_clf = random_search.best_estimator_\n",
        "\n",
        "# สร้างโมเดลแบบ Ensemble โดยใช้ Voting\n",
        "ensemble_clf = VotingClassifier(estimators=[\n",
        "    ('rf', best_clf),\n",
        "    ('rf2', RandomForestClassifier(n_estimators=best_clf.n_estimators, max_depth=best_clf.max_depth, min_samples_split=best_clf.min_samples_split, min_samples_leaf=best_clf.min_samples_leaf, random_state=43))\n",
        "], voting='soft')\n",
        "\n",
        "# ฝึกโมเดล Ensemble\n",
        "ensemble_clf.fit(X_train, y_train)\n",
        "\n",
        "# ใช้ Cross-Validation เพื่อประเมินผลโมเดล\n",
        "cv_scores = cross_val_score(ensemble_clf, X_train, y_train, cv=5)\n",
        "\n",
        "# แสดงผลลัพธ์ Cross-Validation\n",
        "print(\"Cross-Validation Accuracy Scores: \", cv_scores)\n",
        "print(\"Mean Accuracy: \", cv_scores.mean())\n",
        "print(\"Standard Deviation: \", cv_scores.std())\n",
        "\n",
        "# ทำพยากรณ์ด้วยโมเดล Ensemble\n",
        "y_pred = ensemble_clf.predict(X_test)\n",
        "\n",
        "# วัดความแม่นยำ\n",
        "accuracy = accuracy_score(y_test, y_pred)\n",
        "print(\"Ensemble Model Accuracy on Test Set: \", accuracy)"
      ]
    },
    {
      "cell_type": "code",
      "execution_count": null,
      "metadata": {
        "id": "BX50HQG4MYAQ"
      },
      "outputs": [],
      "source": []
    },
    {
      "cell_type": "code",
      "execution_count": null,
      "metadata": {
        "id": "TbZG4wXFiTQk"
      },
      "outputs": [],
      "source": [
        "import joblib\n",
        "joblib.dump(ensemble_clf, 'ensemble_clf_model2.pkl')"
      ]
    },
    {
      "cell_type": "code",
      "execution_count": null,
      "metadata": {
        "id": "DQ47ZqsoqW66"
      },
      "outputs": [],
      "source": [
        "from sklearn.preprocessing import LabelEncoder\n",
        "import pandas as pd\n",
        "   # สร้าง LabelEncoder\n",
        "encoder = LabelEncoder()\n",
        "\n",
        "load_data = pd.read_csv(\"/content/drive/MyDrive/Colab Notebooks/colab/Test set.csv\")\n",
        "\n",
        "    # สมมติว่า new_data เป็น DataFrame ของข้อมูลใหม่\n",
        "new_data = pd.DataFrame(load_data)\n",
        "\n",
        "   # แปลงค่าสตริงในคอลัมน์ \"aqi\" เป็นตัวเลข\n",
        "target_data = encoder.fit_transform(load_data[\"aqi\"])\n",
        "\n",
        "def get_aqi_category(aqi):\n",
        "    if aqi <= 50:\n",
        "        return \"Good\"\n",
        "    elif aqi <= 100:\n",
        "        return \"Moderate\"\n",
        "    elif aqi <= 150:\n",
        "        return \"Unhealthy for Sensitive Groups\"\n",
        "    elif aqi <= 200:\n",
        "        return \"Unhealthy\"\n",
        "    elif aqi <= 300:\n",
        "        return \"Very Unhealthy\"\n",
        "\n",
        "   # เลือก Feature ที่ดีที่สุด\n",
        "X_new_data = SelectKBest(score_func=f_classif, k=10).fit_transform(new_data, \"aqi\")\n"
      ]
    },
    {
      "cell_type": "code",
      "execution_count": null,
      "metadata": {
        "id": "-6TaWFLkkvqV"
      },
      "outputs": [],
      "source": [
        "# ทำนายผลลัพธ์\n",
        "predictions = ensemble_clf.predict(X_test)\n",
        "print(predictions)"
      ]
    },
    {
      "cell_type": "code",
      "execution_count": null,
      "metadata": {
        "id": "UOZNMLGkC77i"
      },
      "outputs": [],
      "source": [
        "import matplotlib.pyplot as plt\n",
        "import seaborn as sns\n",
        "# สร้าง RandomForestClassifier เพื่อหาความสำคัญของฟีเจอร์\n",
        "rf = RandomForestClassifier(n_estimators=100, random_state=42)\n",
        "rf.fit(X, y)\n",
        "\n",
        "# ความสำคัญของฟีเจอร์\n",
        "feature_importance = rf.feature_importances_\n",
        "\n",
        "# สร้างกราฟแสดงความสำคัญของฟีเจอร์\n",
        "plt.figure(figsize=(10, 6))\n",
        "plt.barh(X.columns, feature_importance, color='skyblue')\n",
        "plt.xlabel('Feature Importance')\n",
        "plt.title('Feature Importance from RandomForest')\n",
        "plt.show()\n",
        "\n",
        "# หากต้องการสร้างกราฟการกระจาย (Pairplot) ด้วย Seaborn\n",
        "sns.pairplot(data, hue=\"AQI_level\", diag_kind=\"kde\", markers=[\"o\", \"s\", \"D\", \"v\", \"^\"])\n",
        "plt.suptitle(\"Pairplot of Features\", y=1.02)\n",
        "plt.show()\n",
        "\n",
        "# หากต้องการสร้างกราฟการกระจายข้อมูลระหว่าง Features\n",
        "sns.heatmap(X.corr(), annot=True, cmap=\"coolwarm\", linewidths=0.5)\n",
        "plt.title(\"Correlation Heatmap of Features\")\n",
        "plt.show()"
      ]
    },
    {
      "cell_type": "code",
      "execution_count": null,
      "metadata": {
        "id": "a7xIZD1gLnNZ"
      },
      "outputs": [],
      "source": []
    }
  ],
  "metadata": {
    "colab": {
      "provenance": [],
      "mount_file_id": "1azG1Q1rKCvQVtG7OYZMqzjhKtQA8ty9H",
      "authorship_tag": "ABX9TyOrg950D7ZgQ2LJkp241+gR",
      "include_colab_link": true
    },
    "kernelspec": {
      "display_name": "Python 3",
      "name": "python3"
    },
    "language_info": {
      "name": "python"
    }
  },
  "nbformat": 4,
  "nbformat_minor": 0
}